{
 "cells": [
  {
   "cell_type": "code",
   "execution_count": 1,
   "metadata": {
    "collapsed": true
   },
   "outputs": [],
   "source": [
    "from math import exp, sqrt\n",
    "from random import randrange,choice,random\n",
    "import os\n",
    "import numpy as np\n",
    "from bisect import bisect_right"
   ]
  },
  {
   "cell_type": "code",
   "execution_count": 8,
   "metadata": {
    "collapsed": true
   },
   "outputs": [],
   "source": [
    "def find_gt(a, x):\n",
    "    'Find leftmost value greater than x'\n",
    "    i = bisect_right(a, x)\n",
    "    if i != len(a):\n",
    "        return a[i]\n",
    "    else: return 1"
   ]
  },
  {
   "cell_type": "code",
   "execution_count": 26,
   "metadata": {
    "collapsed": true
   },
   "outputs": [],
   "source": [
    "tmp=sorted(list([0.1,5,32,2,4]))"
   ]
  },
  {
   "cell_type": "code",
   "execution_count": 28,
   "metadata": {
    "collapsed": false
   },
   "outputs": [
    {
     "data": {
      "text/plain": [
       "[0.1, 2, 4, 5, 32]"
      ]
     },
     "execution_count": 28,
     "metadata": {},
     "output_type": "execute_result"
    }
   ],
   "source": [
    "tmp"
   ]
  },
  {
   "cell_type": "code",
   "execution_count": 29,
   "metadata": {
    "collapsed": false
   },
   "outputs": [
    {
     "data": {
      "text/plain": [
       "1"
      ]
     },
     "execution_count": 29,
     "metadata": {},
     "output_type": "execute_result"
    }
   ],
   "source": [
    "find_gt(tmp,32)"
   ]
  },
  {
   "cell_type": "code",
   "execution_count": 3,
   "metadata": {
    "collapsed": true
   },
   "outputs": [],
   "source": [
    "def init_ising_lattice(n,cool):\n",
    "    if cool == False:\n",
    "        lattice = [0]*n\n",
    "        options = [-1,1]\n",
    "        for i in range(n):\n",
    "            lattice[i] = choice(options)\n",
    "    else:\n",
    "        lattice=[1]*n\n",
    "\n",
    "    return lattice"
   ]
  },
  {
   "cell_type": "code",
   "execution_count": 4,
   "metadata": {
    "collapsed": true
   },
   "outputs": [],
   "source": [
    "  \n",
    "def cum_prob(summ):\n",
    "    return 1-np.exp(-2*summ)\n",
    "\n",
    "def tool(beta,alpha,d):\n",
    "    return beta*(d**alpha)\n",
    "\n",
    "def lookUpTable(L,beta,alpha):\n",
    "    #define lookup table\n",
    "    lUpTab=[]\n",
    "    summa=0\n",
    "    for dist in range(1,L+1):\n",
    "        summa+=tool(beta,alpha,dist)\n",
    "        Cprob=cum_prob(summa)\n",
    "        lUpTab.append(Cprob)\n",
    "    return lUpTab\n",
    "\n",
    "def cluster_for_a_node(n,i,lookup,ising,tempCluster):\n",
    "    distanceToEnd=n-i\n",
    "    distanceToBeg=i\n",
    "    rescaling=1\n",
    "    Cd=0\n",
    "    distance=0\n",
    "    while (distanceToEnd>0):\n",
    "        g=random()*rescaling+Cd\n",
    "            #if g >= lookup[-1]: break\n",
    "        \n",
    "        Cd=find_gt(lookup,g)\n",
    "        #print Cd\n",
    "        distance=bisect_right(lookup, g)\n",
    "            #print distance\n",
    "        if i+distance >= n: break\n",
    "        if ising[i] == ising[i+distance] and i+distance not in tempCluster:\n",
    "            tempCluster.append(i+distance)\n",
    "            distanceToEnd=n-i-distance\n",
    "            #outOfCluster.remove(i+distance)\n",
    "            #search.remove(i+distance)\n",
    "        rescaling=1-Cd\n",
    "        \n",
    "    \n",
    "    distance=0\n",
    "    rescaling=1\n",
    "    Cd=0\n",
    "    while (distanceToBeg>0):\n",
    "        g=random()*rescaling+Cd\n",
    "            #if g >= lookup[-1]: break\n",
    "        Cd=find_gt(lookup,g)\n",
    "        distance=bisect_right(lookup, g)\n",
    "        if i-distance <= 0: break\n",
    "        if ising[i] == ising[i-distance]and i-distance not in tempCluster:\n",
    "            tempCluster.append(i-distance)\n",
    "            distanceToEnd=i-distance\n",
    "                #outOfCluster.remove(i-distance)\n",
    "                #search.remove(i-distance)\n",
    "        rescaling=(1-Cd)\n",
    "        \n",
    "    return tempCluster\n",
    "\n",
    "\n",
    "\n",
    "\n",
    "def clustering(ising,lookup,n):\n",
    "    \n",
    "    #outOfCluster=range(n)\n",
    "    #search=set(outOfCluster)\n",
    "    clusters=[]\n",
    "    #while(len(outOfCluster)>(0.9*n)):\n",
    "    i=choice(range(n))\n",
    "    #print i\n",
    "    tempCluster=[i]\n",
    "    #tempCluster.append(i)\n",
    "    #outOfCluster.remove(i)\n",
    "    #    search.remove(i)\n",
    "        #single cluster\n",
    "    new=tempCluster\n",
    "    while(len(new)>0):\n",
    "        for item in new:\n",
    "            tempCluster=cluster_for_a_node(n,item,lookup,ising,tempCluster)\n",
    "        #print \"lung clust\"+str(len(tempCluster))\n",
    "        temp=[item for item in tempCluster if item not in new]\n",
    "        new=temp\n",
    "            #if len(outOfCluster)==0:break\n",
    "            \n",
    "       \n",
    "    #print \"finito cluster\"    \n",
    "    clusters.append(tempCluster)\n",
    "        \n",
    "    \n",
    "    #clusters needs to be a list of lists\n",
    "    #print len(clusters)\n",
    "    #print len(clusters[1])\n",
    "    return clusters\n",
    "\n",
    "def clusterSwitch(ising,clusters,h_ex):\n",
    "    #options=[-1,1]  #1/2 probability to switch  \n",
    "    h=h_ex\n",
    "    L=len(ising)\n",
    "                                   \n",
    "    for cluster in clusters:\n",
    "        clusterSize=len(cluster)\n",
    "        clusterImp=clusterSize/float(L)\n",
    "        #if clusterSize >0.7*L: print clusterSize\n",
    "        threshold=np.exp(h*clusterImp)/(np.exp(h*clusterImp)+np.exp(-h*clusterImp))\n",
    "        if random()<=threshold:\n",
    "            newSign=-1\n",
    "        else:\n",
    "            newSign=1\n",
    "        toSwitchList=cluster\n",
    "        \n",
    "        #newSign=choice(options)  #1/2 probability to switch\n",
    "        for node in toSwitchList:\n",
    "            ising[node]=newSign\n",
    "            \n",
    "    #modify the lattice by randomly switching clusters\n",
    "    return ising\n",
    "\n",
    "\n",
    "  "
   ]
  },
  {
   "cell_type": "code",
   "execution_count": 5,
   "metadata": {
    "collapsed": true
   },
   "outputs": [],
   "source": [
    "%matplotlib inline"
   ]
  },
  {
   "cell_type": "code",
   "execution_count": 36,
   "metadata": {
    "collapsed": false,
    "scrolled": true
   },
   "outputs": [
    {
     "name": "stdout",
     "output_type": "stream",
     "text": [
      "409600\n",
      "step 95 0.001220703125\n"
     ]
    }
   ],
   "source": [
    "def main():\n",
    "    import matplotlib.pyplot as plt\n",
    "    import sys,getopt\n",
    "    #opts,args = getopt.getopt(sys.argv[1:],'n:s:b:a:c:h:')\n",
    "    n = (2**12)*100\n",
    "    print n\n",
    "    nsteps = 10**2\n",
    "    beta=0.4\n",
    "    alpha=-2.5\n",
    "    h=-0.\n",
    "    cool=False\n",
    "    \n",
    "    tab=lookUpTable(n,beta,alpha)\n",
    "\n",
    "    ising=init_ising_lattice(n,cool)\n",
    "    for i in range(nsteps):\n",
    "\n",
    "\n",
    "        if i%5==0:\n",
    "            sys.stdout.write(\"\\rstep %i \" % (i))\n",
    "            sys.stdout.flush()\n",
    "    \n",
    "                \n",
    "        clu=clustering(ising,tab,n)\n",
    "        ising=clusterSwitch(ising,clu,h)\n",
    "\n",
    "    #print ising\n",
    "    print np.mean(ising)\n",
    "\n",
    "    \n",
    " \n",
    "    \n",
    "if __name__ == '__main__': main()"
   ]
  },
  {
   "cell_type": "code",
   "execution_count": null,
   "metadata": {
    "collapsed": true
   },
   "outputs": [],
   "source": []
  }
 ],
 "metadata": {
  "kernelspec": {
   "display_name": "Python 2",
   "language": "python",
   "name": "python2"
  },
  "language_info": {
   "codemirror_mode": {
    "name": "ipython",
    "version": 2
   },
   "file_extension": ".py",
   "mimetype": "text/x-python",
   "name": "python",
   "nbconvert_exporter": "python",
   "pygments_lexer": "ipython2",
   "version": "2.7.12"
  }
 },
 "nbformat": 4,
 "nbformat_minor": 0
}
